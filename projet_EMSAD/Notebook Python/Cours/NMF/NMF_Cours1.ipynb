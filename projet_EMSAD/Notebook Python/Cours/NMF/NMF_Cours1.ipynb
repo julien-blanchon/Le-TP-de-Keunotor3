{
 "cells": [
  {
   "cell_type": "markdown",
   "metadata": {},
   "source": [
    "# NMF"
   ]
  },
  {
   "cell_type": "code",
   "execution_count": 1,
   "metadata": {},
   "outputs": [],
   "source": [
    "import numpy as np"
   ]
  },
  {
   "cell_type": "code",
   "execution_count": 9,
   "metadata": {},
   "outputs": [],
   "source": [
    "X = np.array([\n",
    "    [2, 1, 3],\n",
    "    [4, 1, 1],\n",
    "    [1, 3, 3]\n",
    "])\n",
    "W = np.array([\n",
    "    [1, 1],\n",
    "    [1, 1],\n",
    "    [1, 1]\n",
    "])\n",
    "\n",
    "H = np.array([\n",
    "    [1, 1, 1],\n",
    "    [1, 1, 1]\n",
    "])\n"
   ]
  },
  {
   "cell_type": "code",
   "execution_count": 20,
   "metadata": {},
   "outputs": [],
   "source": [
    "def update_H(X: np.ndarray, W: np.ndarray, H: np.ndarray) -> np.ndarray:\n",
    "    newH = H * ( (W.T @ X) / (W.T @ W @ H) )\n",
    "    return newH\n"
   ]
  },
  {
   "cell_type": "code",
   "execution_count": 33,
   "metadata": {},
   "outputs": [],
   "source": [
    "def update_W(X: np.ndarray, W: np.ndarray, H: np.ndarray) -> np.ndarray:\n",
    "    newH = W * ( (X @ H.T) / (W @ H @ H.T) )\n",
    "    return newH\n"
   ]
  },
  {
   "cell_type": "code",
   "execution_count": 29,
   "metadata": {},
   "outputs": [],
   "source": [
    "n = 3\n",
    "p = 3\n",
    "r = 2"
   ]
  },
  {
   "cell_type": "code",
   "execution_count": 31,
   "metadata": {},
   "outputs": [],
   "source": [
    "W = np.random.rand(n, r)\n",
    "H = np.random.rand(r, p)"
   ]
  },
  {
   "cell_type": "code",
   "execution_count": 51,
   "metadata": {},
   "outputs": [
    {
     "name": "stdout",
     "output_type": "stream",
     "text": [
      "Original data : \n",
      "[[2 1 3]\n",
      " [4 1 1]\n",
      " [1 3 3]]\n",
      "Reconstructed data : \n",
      "[[2.04460348 1.75955104 2.40682674]\n",
      " [3.98347707 0.71863165 1.21973531]\n",
      " [0.97394333 2.55628187 3.34652277]]\n",
      "Squared reconstruction error : 1.1730853739924236\n"
     ]
    }
   ],
   "source": [
    "max_iter = 1000\n",
    "eps = 1e-10\n",
    "\n",
    "k=0\n",
    "convergence = False\n",
    "while k < max_iter and not(convergence):\n",
    "    newH = update_H(X, W, H)\n",
    "    newW = update_W(X, W, newH)\n",
    "    convergenceH = (np.linalg.norm(newH-H) < eps)\n",
    "    convergenceW = (np.linalg.norm(newW-W) < eps)\n",
    "    convergence = (convergenceH and convergenceW)\n",
    "    H, W = newH, newW\n",
    "\n",
    "print(f\"Original data : \\n{X}\")\n",
    "print(f\"Reconstructed data : \\n{W@H}\")\n",
    "print(f\"Squared reconstruction error : {np.linalg.norm(W@H - X)}\")\n"
   ]
  },
  {
   "cell_type": "code",
   "execution_count": 37,
   "metadata": {},
   "outputs": [],
   "source": [
    "from sklearn.decomposition import NMF"
   ]
  },
  {
   "cell_type": "code",
   "execution_count": 39,
   "metadata": {},
   "outputs": [
    {
     "name": "stderr",
     "output_type": "stream",
     "text": [
      "/Library/Frameworks/Python.framework/Versions/3.9/lib/python3.9/site-packages/sklearn/decomposition/_nmf.py:289: FutureWarning: The 'init' value, when 'init=None' and n_components is less than n_samples and n_features, will be changed from 'nndsvd' to 'nndsvda' in 1.1 (renaming of 0.26).\n",
      "  warnings.warn(\n"
     ]
    },
    {
     "data": {
      "text/plain": [
       "NMF(n_components=2)"
      ]
     },
     "execution_count": 39,
     "metadata": {},
     "output_type": "execute_result"
    }
   ],
   "source": [
    "nmf = NMF(n_components=2)\n",
    "nmf.fit(X)"
   ]
  },
  {
   "cell_type": "code",
   "execution_count": 54,
   "metadata": {},
   "outputs": [
    {
     "name": "stdout",
     "output_type": "stream",
     "text": [
      "Original data : \n",
      " [[2 1 3]\n",
      " [4 1 1]\n",
      " [1 3 3]]\n",
      "Reconstructed data : \n",
      " [[1.24116015 0.75767399]\n",
      " [0.50700297 2.04552421]\n",
      " [1.80304119 0.        ]]\n",
      "Squared reconstruction error : 1.1730853884067822\n"
     ]
    },
    {
     "name": "stderr",
     "output_type": "stream",
     "text": [
      "/Library/Frameworks/Python.framework/Versions/3.9/lib/python3.9/site-packages/sklearn/decomposition/_nmf.py:289: FutureWarning: The 'init' value, when 'init=None' and n_components is less than n_samples and n_features, will be changed from 'nndsvd' to 'nndsvda' in 1.1 (renaming of 0.26).\n",
      "  warnings.warn(\n"
     ]
    }
   ],
   "source": [
    "print(f\"Original data : \\n {X}\")\n",
    "print(f\"Reconstructed data : \\n {nmf.fit_transform(X)}\")\n",
    "print(f\"Squared reconstruction error : {nmf.reconstruction_err_}\")\n"
   ]
  }
 ],
 "metadata": {
  "interpreter": {
   "hash": "949777d72b0d2535278d3dc13498b2535136f6dfe0678499012e853ee9abcab1"
  },
  "kernelspec": {
   "display_name": "Python 3.9.0 64-bit",
   "language": "python",
   "name": "python3"
  },
  "language_info": {
   "codemirror_mode": {
    "name": "ipython",
    "version": 3
   },
   "file_extension": ".py",
   "mimetype": "text/x-python",
   "name": "python",
   "nbconvert_exporter": "python",
   "pygments_lexer": "ipython3",
   "version": "3.9.0"
  },
  "orig_nbformat": 4
 },
 "nbformat": 4,
 "nbformat_minor": 2
}
