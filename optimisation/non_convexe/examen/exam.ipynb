{
 "cells": [
  {
   "cell_type": "markdown",
   "metadata": {},
   "source": [
    "# Examen"
   ]
  },
  {
   "cell_type": "markdown",
   "metadata": {},
   "source": [
    "## Question 1"
   ]
  },
  {
   "cell_type": "code",
   "execution_count": 161,
   "metadata": {},
   "outputs": [],
   "source": [
    "import numpy as np\n",
    "import matplotlib.pyplot as plt"
   ]
  },
  {
   "cell_type": "code",
   "execution_count": 2,
   "metadata": {},
   "outputs": [],
   "source": [
    "def GET():\n",
    "    toto = np.load(\"./data.npy\")\n",
    "    b = toto[:, 0]\n",
    "    A = np.copy(toto)\n",
    "    A[:, 0] = 1\n",
    "    return A, b"
   ]
  },
  {
   "cell_type": "code",
   "execution_count": 3,
   "metadata": {},
   "outputs": [
    {
     "name": "stdout",
     "output_type": "stream",
     "text": [
      "4438.622823297785 324.75062740509065\n"
     ]
    }
   ],
   "source": [
    "A, b = GET()\n",
    "print(np.linalg.norm(A), np.linalg.norm(b))"
   ]
  },
  {
   "cell_type": "code",
   "execution_count": 4,
   "metadata": {},
   "outputs": [
    {
     "data": {
      "text/plain": [
       "(252, 14)"
      ]
     },
     "execution_count": 4,
     "metadata": {},
     "output_type": "execute_result"
    }
   ],
   "source": [
    "A.shape"
   ]
  },
  {
   "cell_type": "markdown",
   "metadata": {},
   "source": [
    "## Question 2"
   ]
  },
  {
   "cell_type": "code",
   "execution_count": 5,
   "metadata": {},
   "outputs": [],
   "source": [
    "def f(x):\n",
    "    return 0.5*np.linalg.norm(A@x - b, 2)**2"
   ]
  },
  {
   "cell_type": "code",
   "execution_count": 6,
   "metadata": {},
   "outputs": [],
   "source": [
    "def gradf(x):\n",
    "    return A.T@A@x - A.T@b"
   ]
  },
  {
   "cell_type": "code",
   "execution_count": 7,
   "metadata": {},
   "outputs": [],
   "source": [
    "def Hessf(x):\n",
    "    return A.T@A"
   ]
  },
  {
   "cell_type": "code",
   "execution_count": 8,
   "metadata": {},
   "outputs": [
    {
     "name": "stdout",
     "output_type": "stream",
     "text": [
      "Testf () 7733636.118318958\n",
      "TestGradf (14,) 17319676.34630816\n",
      "TestHessf (14, 14) 19592934.364495266\n"
     ]
    }
   ],
   "source": [
    "A, b = GET()\n",
    "n = 14\n",
    "np.random.seed(10)\n",
    "y = np.random.randn(n)\n",
    "\n",
    "print('Testf', f(y).shape, np.linalg.norm(f(y)))\n",
    "print('TestGradf', gradf(y).shape, np.linalg.norm(gradf(y)))\n",
    "print('TestHessf', Hessf(y).shape, np.linalg.norm(Hessf(y)))"
   ]
  },
  {
   "cell_type": "markdown",
   "metadata": {},
   "source": [
    "## Question 3"
   ]
  },
  {
   "cell_type": "code",
   "execution_count": 9,
   "metadata": {},
   "outputs": [],
   "source": [
    "def least_square(A, b):\n",
    "    return np.linalg.solve(A.T@A, A.T@b)"
   ]
  },
  {
   "cell_type": "code",
   "execution_count": 10,
   "metadata": {},
   "outputs": [
    {
     "data": {
      "text/plain": [
       "(14,)"
      ]
     },
     "execution_count": 10,
     "metadata": {},
     "output_type": "execute_result"
    }
   ],
   "source": [
    "least_square(A, b).shape"
   ]
  },
  {
   "cell_type": "code",
   "execution_count": 74,
   "metadata": {},
   "outputs": [
    {
     "name": "stdout",
     "output_type": "stream",
     "text": [
      "LS 15.40651626419454 1892.567873806654\n"
     ]
    }
   ],
   "source": [
    "A, b = GET()\n",
    "x = least_square(A, b)\n",
    "print('LS', np.linalg.norm(x), f(x))\n",
    "#LS 15.40651626417451 1892.5678738066536"
   ]
  },
  {
   "cell_type": "code",
   "execution_count": 75,
   "metadata": {},
   "outputs": [
    {
     "data": {
      "text/plain": [
       "array([-1.52925491e+01,  5.67861579e-02, -8.03098594e-02, -6.46002829e-02,\n",
       "       -4.37540900e-01, -2.36033328e-02,  8.85429029e-01, -1.98418618e-01,\n",
       "        2.31895419e-01, -1.16767901e-02,  1.63535902e-01,  1.52798942e-01,\n",
       "        4.30488745e-01, -1.47653692e+00])"
      ]
     },
     "execution_count": 75,
     "metadata": {},
     "output_type": "execute_result"
    }
   ],
   "source": [
    "x"
   ]
  },
  {
   "cell_type": "markdown",
   "metadata": {},
   "source": [
    "## Question 4"
   ]
  },
  {
   "cell_type": "code",
   "execution_count": 123,
   "metadata": {},
   "outputs": [],
   "source": [
    "def gradient(x0, step, tol=1.e-6, nitermax=1000):\n",
    "    k = 0\n",
    "    xk = x0\n",
    "    convergence = False\n",
    "\n",
    "    while not(convergence) and k<nitermax:\n",
    "        k += 1\n",
    "        direction = -gradf(xk)\n",
    "        xk = xk + step*direction\n",
    "        convergence = (np.linalg.norm(direction) < tol)\n",
    "    \n",
    "    return xk\n"
   ]
  },
  {
   "cell_type": "code",
   "execution_count": 129,
   "metadata": {},
   "outputs": [
    {
     "name": "stdout",
     "output_type": "stream",
     "text": [
      "LS 0.4396432077397727 2765.0505665512037\n"
     ]
    }
   ],
   "source": [
    "A, b = GET()\n",
    "x0 = np.zeros(n)\n",
    "x = gradient(x0=x0, step=0.0000001, tol=1.e-6, nitermax=1000)\n",
    "print('LS', np.linalg.norm(x), f(x))\n",
    "#LS 15.40651626417451 1892.5678738066536"
   ]
  },
  {
   "cell_type": "code",
   "execution_count": 121,
   "metadata": {},
   "outputs": [
    {
     "name": "stderr",
     "output_type": "stream",
     "text": [
      "/var/folders/kp/mln_2kkn7wj58h31dbd2jsx40000gn/T/ipykernel_2983/3391432448.py:2: RuntimeWarning: overflow encountered in matmul\n",
      "  return A.T@A@x - A.T@b\n",
      "/var/folders/kp/mln_2kkn7wj58h31dbd2jsx40000gn/T/ipykernel_2983/3862839984.py:9: RuntimeWarning: invalid value encountered in add\n",
      "  xk = xk + step*direction\n"
     ]
    }
   ],
   "source": [
    "for i in range(100, 1000):\n",
    "    x = gradient(x0=x0, step=i*1.e-9, tol=1.e-6, nitermax=1000)\n",
    "    if ( np.linalg.norm(gradf(x)) < 1.e-6) == True:\n",
    "        print(i)\n"
   ]
  },
  {
   "cell_type": "markdown",
   "metadata": {},
   "source": [
    "## Question 5"
   ]
  },
  {
   "cell_type": "code",
   "execution_count": 138,
   "metadata": {},
   "outputs": [
    {
     "name": "stdout",
     "output_type": "stream",
     "text": [
      "318177392.5924107 100139.66608482631\n"
     ]
    }
   ],
   "source": [
    "def GET2():\n",
    "    A, b = GET()\n",
    "    for i in range(1, A.shape[1]):\n",
    "        A[:, i] = A[:, i]-A.shape[0]/np.sum(A[:, i])\n",
    "    for i in range(A.shape[1]):\n",
    "        A[:, i] /= np.linalg.norm(A[:, i])\n",
    "    return A, b\n",
    "\n",
    "\n",
    "A, b = GET()\n",
    "A2, b = GET2()\n",
    "print( np.linalg.cond(A.T.dot(A)) , np.linalg.cond(A2.T.dot(A2)) ) \n",
    "#318177392.581283 100139.66608469417\n"
   ]
  },
  {
   "cell_type": "markdown",
   "metadata": {},
   "source": [
    "## Question 6"
   ]
  },
  {
   "cell_type": "code",
   "execution_count": 139,
   "metadata": {},
   "outputs": [
    {
     "name": "stdout",
     "output_type": "stream",
     "text": [
      "0.02004498477788909\n"
     ]
    }
   ],
   "source": [
    "A, b = GET2()\n",
    "x0 = np.zeros(n)\n",
    "x = gradient(x0, 1.e-1, nitermax=4.e5)\n",
    "print(np.linalg.norm(x-least_square(A, b)))\n",
    "#0.0200449843931244\n"
   ]
  },
  {
   "cell_type": "markdown",
   "metadata": {},
   "source": [
    "## Question 7"
   ]
  },
  {
   "cell_type": "code",
   "execution_count": 167,
   "metadata": {},
   "outputs": [],
   "source": [
    "eps = 1.e-3\n",
    "c = 1\n"
   ]
  },
  {
   "cell_type": "code",
   "execution_count": null,
   "metadata": {},
   "outputs": [],
   "source": []
  },
  {
   "cell_type": "code",
   "execution_count": 174,
   "metadata": {},
   "outputs": [],
   "source": [
    "def g(x):\n",
    "    return eps*np.sum([np.math.sqrt(1+(xi/eps)) for xi in x]) - c\n"
   ]
  },
  {
   "cell_type": "code",
   "execution_count": 175,
   "metadata": {},
   "outputs": [],
   "source": [
    "def sign(x):\n",
    "    if x < 0:\n",
    "        return -1\n",
    "    elif x > 0:\n",
    "        return +1\n",
    "    else:\n",
    "        return +1  # Non dérivable en 0\n"
   ]
  },
  {
   "cell_type": "code",
   "execution_count": 182,
   "metadata": {},
   "outputs": [
    {
     "data": {
      "text/plain": [
       "-0.0019999999903075653"
      ]
     },
     "execution_count": 182,
     "metadata": {},
     "output_type": "execute_result"
    }
   ],
   "source": []
  },
  {
   "cell_type": "code",
   "execution_count": 183,
   "metadata": {},
   "outputs": [],
   "source": [
    "def gradg(x):\n",
    "    return eps*np.sum([xi/np.math.sqrt(1+(xi/eps)**2) for xi in x])\n",
    "    \n"
   ]
  },
  {
   "cell_type": "code",
   "execution_count": 184,
   "metadata": {},
   "outputs": [],
   "source": [
    "def gradient2(x0, step, lamb=0, tol=1.e-6, nitermax=1000):\n",
    "    k = 0\n",
    "    xk = x0\n",
    "    convergence = False\n",
    "\n",
    "    while not(convergence) and k < nitermax:\n",
    "        k += 1\n",
    "        direction = - (gradf(xk) + lamb*gradg(xk))\n",
    "        xk = xk + step*direction\n",
    "        convergence = (np.linalg.norm(direction) < tol)\n",
    "\n",
    "    return xk\n"
   ]
  },
  {
   "cell_type": "code",
   "execution_count": 185,
   "metadata": {},
   "outputs": [
    {
     "data": {
      "image/png": "[encoded data removed]",
      "text/plain": [
       "<Figure size 432x288 with 1 Axes>"
      ]
     },
     "metadata": {
      "needs_background": "light"
     },
     "output_type": "display_data"
    }
   ],
   "source": [
    "res = np.zeros((10, 14))\n",
    "for i in range(10):\n",
    "    x2 = least_square(A, b)\n",
    "    tmp = gradient2(x2, 1.e-2, lamb=i/5., nitermax=1e5)\n",
    "    res[i, :] = tmp\n",
    "for i in range(14):\n",
    "    plt.plot(range(10), res[:, i], label=str(i))\n",
    "plt.legend()\n",
    "plt.show()\n"
   ]
  }
 ],
 "metadata": {
  "interpreter": {
   "hash": "949777d72b0d2535278d3dc13498b2535136f6dfe0678499012e853ee9abcab1"
  },
  "kernelspec": {
   "display_name": "Python 3.9.0 64-bit",
   "language": "python",
   "name": "python3"
  },
  "language_info": {
   "codemirror_mode": {
    "name": "ipython",
    "version": 3
   },
   "file_extension": ".py",
   "mimetype": "text/x-python",
   "name": "python",
   "nbconvert_exporter": "python",
   "pygments_lexer": "ipython3",
   "version": "3.9.0"
  },
  "orig_nbformat": 4
 },
 "nbformat": 4,
 "nbformat_minor": 2
}
