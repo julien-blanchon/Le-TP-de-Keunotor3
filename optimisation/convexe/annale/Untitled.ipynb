{
 "cells": [
  {
   "cell_type": "markdown",
   "metadata": {},
   "source": [
    "# Annale 2020"
   ]
  },
  {
   "cell_type": "code",
   "execution_count": 3,
   "metadata": {},
   "outputs": [],
   "source": [
    "import numpy as np"
   ]
  },
  {
   "cell_type": "code",
   "execution_count": 4,
   "metadata": {},
   "outputs": [],
   "source": [
    "def Q0() :\n",
    "    n=7\n",
    "    m=18\n",
    "    np.random.seed(13)\n",
    "    A=np.random.randn(m,n)\n",
    "    b=np.random.randn(m)\n",
    "    c=np.random.randn(n)\n",
    "    d=np.random.randn(1)\n",
    "    return A,b,c,d"
   ]
  },
  {
   "cell_type": "markdown",
   "metadata": {},
   "source": [
    "## Q1"
   ]
  },
  {
   "cell_type": "code",
   "execution_count": 5,
   "metadata": {},
   "outputs": [
    {
     "name": "stdout",
     "output_type": "stream",
     "text": [
      "[(10.27225852615096, (18, 7)), (3.37426166171627, (18,)), (2.7041912508031154, (7,)), (0.43820143730669325, (1,))]\n"
     ]
    }
   ],
   "source": [
    "print([(np.linalg.norm(e), e.shape) for e in Q0()])"
   ]
  },
  {
   "cell_type": "markdown",
   "metadata": {},
   "source": [
    "## Q5"
   ]
  },
  {
   "cell_type": "code",
   "execution_count": 27,
   "metadata": {},
   "outputs": [],
   "source": [
    "A, b, c, d = Q0()\n",
    "\n",
    "M = A.T.dot(A)\n",
    "e = A.T.dot(b)\n",
    "\n",
    "def f(x):\n",
    "    ev = 0.5*np.dot(M.dot(x), x) - np.dot(x, e)\n",
    "    grad = M.dot(x) - e\n",
    "    Hess = M\n",
    "    return ev, grad, Hess\n",
    "\n",
    "def g(x):\n",
    "    ev = np.dot(c, x) - d\n",
    "    grad = c\n",
    "    Hess = np.zeros((len(c), len(c)))\n",
    "    return ev, grad, Hess"
   ]
  },
  {
   "cell_type": "code",
   "execution_count": 28,
   "metadata": {},
   "outputs": [
    {
     "name": "stdout",
     "output_type": "stream",
     "text": [
      "f [(78.60059318706854, ()), (57.5776103293068, (7,)), (45.98916287849281, (7, 7))]\n",
      "f [(3.955365685493832, (1,)), (2.7041912508031154, (7,)), (0.0, (7, 7))]\n"
     ]
    }
   ],
   "source": [
    "A, b, c, d = Q0()\n",
    "\n",
    "np.random.seed(14)\n",
    "\n",
    "x = np.random.randn(len(c))\n",
    "\n",
    "print('f',[(np.linalg.norm(e), e.shape) for e in f(x)])\n",
    "print('f',[(np.linalg.norm(e), e.shape) for e in g(x)])"
   ]
  },
  {
   "cell_type": "markdown",
   "metadata": {},
   "source": [
    "## Q9"
   ]
  },
  {
   "cell_type": "code",
   "execution_count": 30,
   "metadata": {},
   "outputs": [
    {
     "name": "stdout",
     "output_type": "stream",
     "text": [
      "0.8282474081725529 [0.92984506]\n"
     ]
    }
   ],
   "source": [
    "def Valid():\n",
    "    x = np.linalg.solve(M, e)\n",
    "    gx,_,_ = g(x)\n",
    "    return x, gx\n",
    "\n",
    "\n",
    "x,gx=Valid()\n",
    "print(np.linalg.norm(x),gx)"
   ]
  },
  {
   "cell_type": "markdown",
   "metadata": {},
   "source": [
    "## Q11"
   ]
  },
  {
   "cell_type": "code",
   "execution_count": 54,
   "metadata": {},
   "outputs": [
    {
     "name": "stdout",
     "output_type": "stream",
     "text": [
      "h [(545.0351285419861, (1,)), (1220.1571392739759, (7, 1)), (0.0, (7, 7))]\n",
      "h [(0.0, (1,)), (0.0, (7, 1)), (0.0, (7, 7))]\n"
     ]
    }
   ],
   "source": [
    "def h(x):\n",
    "    gval, gradg, Hg = g(x)\n",
    "    gradg = gradg.reshape((len(gradg), 1))\n",
    "    U = 1. if gval>0 else 0.\n",
    "    hval = U*gval**4\n",
    "    gradh = U*4*gval**3*gradg\n",
    "    Hh = U*(12*gval**2*gradg.dot(gradg.T)*4*gval**3*Hg)\n",
    "    return hval, gradh, Hh\n",
    "    \n",
    "np.random.seed(14)\n",
    "x = np.random.randn(len(c))\n",
    "print('h',[(np.linalg.norm(e),e.shape) for e in h(-x)])\n",
    "print('h',[(np.linalg.norm(e),e.shape) for e in h(x)])"
   ]
  },
  {
   "cell_type": "code",
   "execution_count": null,
   "metadata": {},
   "outputs": [],
   "source": []
  }
 ],
 "metadata": {
  "kernelspec": {
   "display_name": "Python 3",
   "language": "python",
   "name": "python3"
  },
  "language_info": {
   "codemirror_mode": {
    "name": "ipython",
    "version": 3
   },
   "file_extension": ".py",
   "mimetype": "text/x-python",
   "name": "python",
   "nbconvert_exporter": "python",
   "pygments_lexer": "ipython3",
   "version": "3.6.12"
  }
 },
 "nbformat": 4,
 "nbformat_minor": 4
}
